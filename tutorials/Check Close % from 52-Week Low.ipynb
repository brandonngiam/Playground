{
 "cells": [
  {
   "cell_type": "markdown",
   "metadata": {},
   "source": [
    "### Author(s): evankoh\n",
    "\n",
    "\n",
    "### Description\n",
    "This notebook aim to compute the Close % from 52-Weeks Low"
   ]
  },
  {
   "cell_type": "code",
   "execution_count": null,
   "metadata": {},
   "outputs": [],
   "source": [
    "import os\n",
    "os.chdir('../')"
   ]
  },
  {
   "cell_type": "code",
   "execution_count": null,
   "metadata": {},
   "outputs": [],
   "source": [
    "from stockscafe.StocksCafeApi import StocksCafeApi\n",
    "sc = StocksCafeApi()\n",
    "exchange = 'SGX'\n",
    "symbol = 'TQ5'\n",
    "lookback = 1000\n",
    "results = sc.getPrices(exchange, symbol, lookback)\n",
    "df = results['eod_list']\n",
    "df.tail()"
   ]
  },
  {
   "cell_type": "code",
   "execution_count": null,
   "metadata": {},
   "outputs": [],
   "source": [
    "import pandas as pd\n",
    "import stockscafe.indicators.others.CloseFrom52wLow as ClLow\n",
    "lookBackWeeks = 52\n",
    "clresults = ClLow.compute(df, window=lookBackWeeks)\n",
    "# Order by latest prices first\n",
    "clresults['date_dt'] = pd.to_datetime(clresults['date'], format='%d %b %Y')\n",
    "clresults.sort_values('date_dt', ascending=False).drop('date_dt', axis=1).head()"
   ]
  },
  {
   "cell_type": "code",
   "execution_count": null,
   "metadata": {},
   "outputs": [],
   "source": []
  },
  {
   "cell_type": "code",
   "execution_count": null,
   "metadata": {},
   "outputs": [],
   "source": []
  }
 ],
 "metadata": {
  "kernelspec": {
   "display_name": "Python 3",
   "language": "python",
   "name": "python3"
  },
  "language_info": {
   "codemirror_mode": {
    "name": "ipython",
    "version": 3
   },
   "file_extension": ".py",
   "mimetype": "text/x-python",
   "name": "python",
   "nbconvert_exporter": "python",
   "pygments_lexer": "ipython3",
   "version": "3.7.2"
  }
 },
 "nbformat": 4,
 "nbformat_minor": 2
}

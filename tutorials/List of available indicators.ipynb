{
 "cells": [
  {
   "cell_type": "markdown",
   "metadata": {},
   "source": [
    "### Author(s): evankoh\n",
    "\n",
    "\n",
    "### Description\n",
    "This notebook aim to list all the available indicators currently supported by StocksCafe Playground"
   ]
  },
  {
   "cell_type": "markdown",
   "metadata": {},
   "source": [
    "### Get Prices"
   ]
  },
  {
   "cell_type": "code",
   "execution_count": null,
   "metadata": {},
   "outputs": [],
   "source": [
    "import os\n",
    "os.chdir('../')\n",
    "from stockscafe.StocksCafeApi import StocksCafeApi\n",
    "sc = StocksCafeApi()\n",
    "results = sc.getPrices('SGX', 'D05', 100)\n",
    "df = results['eod_list']\n",
    "df.tail()"
   ]
  },
  {
   "cell_type": "markdown",
   "metadata": {},
   "source": [
    "## Momentum Indicators"
   ]
  },
  {
   "cell_type": "code",
   "execution_count": null,
   "metadata": {},
   "outputs": [],
   "source": [
    "# Simple Moving Average\n",
    "import stockscafe.indicators.momentum.MovingAverage as MA\n",
    "ma = MA.compute(df, 20) # Compute and add to Data Frame\n",
    "ma.tail()"
   ]
  },
  {
   "cell_type": "code",
   "execution_count": null,
   "metadata": {},
   "outputs": [],
   "source": [
    "# Exponential Moving Average\n",
    "import stockscafe.indicators.momentum.MovingAverage as MA\n",
    "ma = MA.computeExponential(df, 20) # Compute and add to Data Frame\n",
    "ma.tail()"
   ]
  },
  {
   "cell_type": "markdown",
   "metadata": {},
   "source": [
    "### Oscillator Indicators"
   ]
  },
  {
   "cell_type": "code",
   "execution_count": null,
   "metadata": {},
   "outputs": [],
   "source": [
    "# RSI\n",
    "import stockscafe.indicators.oscillator.RSI as RSI\n",
    "rsi = RSI.compute(df, 14)\n",
    "rsi.tail()"
   ]
  },
  {
   "cell_type": "code",
   "execution_count": null,
   "metadata": {},
   "outputs": [],
   "source": [
    "# Stochastic\n",
    "import stockscafe.indicators.oscillator.Stochastic as Sto\n",
    "sto = Sto.compute(df, 70, 30)\n",
    "sto.tail()"
   ]
  },
  {
   "cell_type": "markdown",
   "metadata": {},
   "source": [
    "### Other Indicators"
   ]
  },
  {
   "cell_type": "code",
   "execution_count": null,
   "metadata": {},
   "outputs": [],
   "source": [
    "# Close price % from X weeks low\n",
    "import pandas as pd\n",
    "import stockscafe.indicators.others.CloseFrom52wLow as ClLow\n",
    "lookBackWeeks=1\n",
    "clresults = ClLow.compute(df, window=lookBackWeeks)\n",
    "# Order by latest prices first\n",
    "clresults['date_dt']=pd.to_datetime(clresults['date'], format='%d %b %Y')\n",
    "clresults.sort_values('date_dt', ascending=False).drop('date_dt', axis=1).head()"
   ]
  }
 ],
 "metadata": {
  "kernelspec": {
   "display_name": "Python 3",
   "language": "python",
   "name": "python3"
  },
  "language_info": {
   "codemirror_mode": {
    "name": "ipython",
    "version": 3
   },
   "file_extension": ".py",
   "mimetype": "text/x-python",
   "name": "python",
   "nbconvert_exporter": "python",
   "pygments_lexer": "ipython3",
   "version": "3.7.2"
  }
 },
 "nbformat": 4,
 "nbformat_minor": 2
}

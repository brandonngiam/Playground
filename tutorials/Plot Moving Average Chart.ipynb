{
 "cells": [
  {
   "cell_type": "markdown",
   "metadata": {},
   "source": [
    "### Author(s): evankoh\n",
    "\n",
    "\n",
    "### Description\n",
    "This notebook demonstrates:\n",
    "1. How to retrieve historical prices for a stock\n",
    "2. Compute moving averages\n",
    "3. Plot results with line charts"
   ]
  },
  {
   "cell_type": "markdown",
   "metadata": {},
   "source": [
    "### Import all neccessary libraries/functions"
   ]
  },
  {
   "cell_type": "code",
   "execution_count": null,
   "metadata": {},
   "outputs": [],
   "source": [
    "import os\n",
    "os.chdir('../')\n",
    "from stockscafe.StocksCafeApi import StocksCafeApi\n",
    "import stockscafe.indicators.momentum.MovingAverage as MA\n",
    "import pandas as pd\n",
    "import plotly.graph_objs as go\n",
    "from plotly import __version__\n",
    "from plotly.offline import download_plotlyjs, init_notebook_mode, plot, iplot"
   ]
  },
  {
   "cell_type": "markdown",
   "metadata": {},
   "source": [
    "### Parameters (If unfamiliar with python, then only change the values in this cell)"
   ]
  },
  {
   "cell_type": "code",
   "execution_count": null,
   "metadata": {},
   "outputs": [],
   "source": [
    "exchange = 'SGX'\n",
    "symbol = 'Z74'\n",
    "name = 'Singtel'\n",
    "shortMADays = 20\n",
    "longMADays = 100\n",
    "priceLookbackDays = 500 # Max is 1000"
   ]
  },
  {
   "cell_type": "markdown",
   "metadata": {},
   "source": [
    "### Declaration & Get Recent Prices"
   ]
  },
  {
   "cell_type": "code",
   "execution_count": null,
   "metadata": {},
   "outputs": [],
   "source": [
    "init_notebook_mode(connected=True)\n",
    "sc = StocksCafeApi()\n",
    "df = sc.getPrices(exchange, symbol, priceLookbackDays)\n",
    "df.tail()"
   ]
  },
  {
   "cell_type": "markdown",
   "metadata": {},
   "source": [
    "### Compute Moving Averages"
   ]
  },
  {
   "cell_type": "code",
   "execution_count": null,
   "metadata": {},
   "outputs": [],
   "source": [
    "df = MA.compute(df, shortMADays) # Compute and add to Data Frame\n",
    "df = MA.compute(df, longMADays) # Compute and add to Data Frame\n",
    "df.tail() # Check data - Try 'df.head()'"
   ]
  },
  {
   "cell_type": "markdown",
   "metadata": {},
   "source": [
    "### Plot Graph"
   ]
  },
  {
   "cell_type": "code",
   "execution_count": null,
   "metadata": {},
   "outputs": [],
   "source": [
    "# Good resource to learn about graph basics - https://www.kaggle.com/kanncaa1/plotly-tutorial-for-beginners\n",
    "\n",
    "traceClose = go.Scatter(\n",
    "                    x = df.date,\n",
    "                    y = df.close,\n",
    "                    mode = \"lines\",\n",
    "                    name = \"Close\",\n",
    "                    marker = dict(color = 'rgba(16, 112, 2, 0.8)'))\n",
    "\n",
    "traceShortMA = go.Scatter(\n",
    "                    x = df.date,\n",
    "                    y = df[f'sma{shortMADays}'],\n",
    "                    mode = \"lines\",\n",
    "                    name = f'SMA-{shortMADays}',\n",
    "                    marker = dict(size = 10, color = 'rgba(0, 0, 255, 0.3)'))\n",
    "\n",
    "traceLongMA = go.Scatter(\n",
    "                    x = df.date,\n",
    "                    y = df[f'sma{longMADays}'],\n",
    "                    mode = \"lines\",\n",
    "                    name = f'SMA-{longMADays}',\n",
    "                    marker = dict(color = 'rgba(255, 0, 0, 0.3)'))\n",
    "\n",
    "data = [traceClose, traceShortMA, traceLongMA]\n",
    "\n",
    "layout = dict(title = f'{name} Moving Average',\n",
    "              xaxis = dict(title = '', ticklen = 0, zeroline = False, \n",
    "                           showticklabels = True, range = [0, len(df.index)], dtick = 100, tickwidth = 1),\n",
    "              autosize = True, showlegend = False\n",
    "             )\n",
    "\n",
    "fig = dict(data = data, layout = layout)\n",
    "\n",
    "iplot(fig)"
   ]
  },
  {
   "cell_type": "markdown",
   "metadata": {},
   "source": [
    "### Generate and store graph in html"
   ]
  },
  {
   "cell_type": "code",
   "execution_count": null,
   "metadata": {},
   "outputs": [],
   "source": [
    "plot(fig, filename = f'output/{exchange}:{symbol}.html')"
   ]
  },
  {
   "cell_type": "code",
   "execution_count": null,
   "metadata": {},
   "outputs": [],
   "source": []
  }
 ],
 "metadata": {
  "kernelspec": {
   "display_name": "Python 3",
   "language": "python",
   "name": "python3"
  },
  "language_info": {
   "codemirror_mode": {
    "name": "ipython",
    "version": 3
   },
   "file_extension": ".py",
   "mimetype": "text/x-python",
   "name": "python",
   "nbconvert_exporter": "python",
   "pygments_lexer": "ipython3",
   "version": "3.7.1"
  }
 },
 "nbformat": 4,
 "nbformat_minor": 2
}

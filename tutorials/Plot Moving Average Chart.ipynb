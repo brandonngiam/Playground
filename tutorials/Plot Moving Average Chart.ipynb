{
 "cells": [
  {
   "cell_type": "markdown",
   "metadata": {},
   "source": [
    "### Author(s): evankoh\n",
    "\n",
    "\n",
    "### Description\n",
    "This notebook demonstrates:\n",
    "1. How to retrieve historical prices for a stock\n",
    "2. Compute moving averages\n",
    "3. Plot results with line charts"
   ]
  },
  {
   "cell_type": "markdown",
   "metadata": {},
   "source": [
    "### Import all neccessary libraries/functions"
   ]
  },
  {
   "cell_type": "code",
   "execution_count": 1,
   "metadata": {},
   "outputs": [],
   "source": [
    "import os\n",
    "os.chdir('../')\n",
    "from stockscafe.StocksCafeApi import StocksCafeApi\n",
    "import stockscafe.indicators.momentum.MovingAverage as MA\n",
    "import pandas as pd\n",
    "import plotly.graph_objs as go\n",
    "from plotly import __version__\n",
    "from plotly.offline import plot"
   ]
  },
  {
   "cell_type": "markdown",
   "metadata": {},
   "source": [
    "### Parameters (If unfamiliar with python, then only change the values in this cell)"
   ]
  },
  {
   "cell_type": "code",
   "execution_count": 2,
   "metadata": {},
   "outputs": [],
   "source": [
    "exchange = 'SGX'\n",
    "symbol = 'D05'\n",
    "name = 'DBS Bank'\n",
    "shortMADays = 20\n",
    "longMADays = 100\n",
    "priceLookbackDays = 1000 # Max is 1000"
   ]
  },
  {
   "cell_type": "markdown",
   "metadata": {},
   "source": [
    "### Declaration & Get Recent Prices"
   ]
  },
  {
   "cell_type": "code",
   "execution_count": 3,
   "metadata": {},
   "outputs": [
    {
     "data": {
      "text/html": [
       "<div>\n",
       "<style scoped>\n",
       "    .dataframe tbody tr th:only-of-type {\n",
       "        vertical-align: middle;\n",
       "    }\n",
       "\n",
       "    .dataframe tbody tr th {\n",
       "        vertical-align: top;\n",
       "    }\n",
       "\n",
       "    .dataframe thead th {\n",
       "        text-align: right;\n",
       "    }\n",
       "</style>\n",
       "<table border=\"1\" class=\"dataframe\">\n",
       "  <thead>\n",
       "    <tr style=\"text-align: right;\">\n",
       "      <th></th>\n",
       "      <th>change</th>\n",
       "      <th>change_percent</th>\n",
       "      <th>close</th>\n",
       "      <th>currency</th>\n",
       "      <th>date</th>\n",
       "      <th>high</th>\n",
       "      <th>low</th>\n",
       "      <th>open</th>\n",
       "      <th>volume</th>\n",
       "    </tr>\n",
       "  </thead>\n",
       "  <tbody>\n",
       "    <tr>\n",
       "      <th>995</th>\n",
       "      <td>-0.130</td>\n",
       "      <td>-0.66%</td>\n",
       "      <td>19.59</td>\n",
       "      <td>SGD</td>\n",
       "      <td>11 Mar 2015</td>\n",
       "      <td>19.72</td>\n",
       "      <td>19.45</td>\n",
       "      <td>19.57</td>\n",
       "      <td>3,694,400</td>\n",
       "    </tr>\n",
       "    <tr>\n",
       "      <th>996</th>\n",
       "      <td>-0.010</td>\n",
       "      <td>-0.05%</td>\n",
       "      <td>19.72</td>\n",
       "      <td>SGD</td>\n",
       "      <td>10 Mar 2015</td>\n",
       "      <td>19.91</td>\n",
       "      <td>19.72</td>\n",
       "      <td>19.83</td>\n",
       "      <td>4,632,000</td>\n",
       "    </tr>\n",
       "    <tr>\n",
       "      <th>997</th>\n",
       "      <td>0.060</td>\n",
       "      <td>0.31%</td>\n",
       "      <td>19.73</td>\n",
       "      <td>SGD</td>\n",
       "      <td>9 Mar 2015</td>\n",
       "      <td>19.75</td>\n",
       "      <td>19.22</td>\n",
       "      <td>19.43</td>\n",
       "      <td>4,738,000</td>\n",
       "    </tr>\n",
       "    <tr>\n",
       "      <th>998</th>\n",
       "      <td>0.190</td>\n",
       "      <td>0.98%</td>\n",
       "      <td>19.67</td>\n",
       "      <td>SGD</td>\n",
       "      <td>6 Mar 2015</td>\n",
       "      <td>19.73</td>\n",
       "      <td>19.50</td>\n",
       "      <td>19.59</td>\n",
       "      <td>4,052,600</td>\n",
       "    </tr>\n",
       "    <tr>\n",
       "      <th>999</th>\n",
       "      <td>0.010</td>\n",
       "      <td>0.05%</td>\n",
       "      <td>19.48</td>\n",
       "      <td>SGD</td>\n",
       "      <td>5 Mar 2015</td>\n",
       "      <td>19.60</td>\n",
       "      <td>19.42</td>\n",
       "      <td>19.53</td>\n",
       "      <td>2,889,200</td>\n",
       "    </tr>\n",
       "  </tbody>\n",
       "</table>\n",
       "</div>"
      ],
      "text/plain": [
       "     change change_percent  close currency         date   high    low   open  \\\n",
       "995  -0.130         -0.66%  19.59      SGD  11 Mar 2015  19.72  19.45  19.57   \n",
       "996  -0.010         -0.05%  19.72      SGD  10 Mar 2015  19.91  19.72  19.83   \n",
       "997   0.060          0.31%  19.73      SGD   9 Mar 2015  19.75  19.22  19.43   \n",
       "998   0.190          0.98%  19.67      SGD   6 Mar 2015  19.73  19.50  19.59   \n",
       "999   0.010          0.05%  19.48      SGD   5 Mar 2015  19.60  19.42  19.53   \n",
       "\n",
       "        volume  \n",
       "995  3,694,400  \n",
       "996  4,632,000  \n",
       "997  4,738,000  \n",
       "998  4,052,600  \n",
       "999  2,889,200  "
      ]
     },
     "execution_count": 3,
     "metadata": {},
     "output_type": "execute_result"
    }
   ],
   "source": [
    "sc = StocksCafeApi()\n",
    "df = sc.getPrices(exchange, symbol, priceLookbackDays)\n",
    "df.tail()"
   ]
  },
  {
   "cell_type": "markdown",
   "metadata": {},
   "source": [
    "### Compute Moving Averages"
   ]
  },
  {
   "cell_type": "code",
   "execution_count": 4,
   "metadata": {},
   "outputs": [
    {
     "data": {
      "text/html": [
       "<div>\n",
       "<style scoped>\n",
       "    .dataframe tbody tr th:only-of-type {\n",
       "        vertical-align: middle;\n",
       "    }\n",
       "\n",
       "    .dataframe tbody tr th {\n",
       "        vertical-align: top;\n",
       "    }\n",
       "\n",
       "    .dataframe thead th {\n",
       "        text-align: right;\n",
       "    }\n",
       "</style>\n",
       "<table border=\"1\" class=\"dataframe\">\n",
       "  <thead>\n",
       "    <tr style=\"text-align: right;\">\n",
       "      <th></th>\n",
       "      <th>change</th>\n",
       "      <th>change_percent</th>\n",
       "      <th>close</th>\n",
       "      <th>currency</th>\n",
       "      <th>date</th>\n",
       "      <th>high</th>\n",
       "      <th>low</th>\n",
       "      <th>open</th>\n",
       "      <th>volume</th>\n",
       "      <th>sma20</th>\n",
       "      <th>sma100</th>\n",
       "    </tr>\n",
       "  </thead>\n",
       "  <tbody>\n",
       "    <tr>\n",
       "      <th>995</th>\n",
       "      <td>0.170</td>\n",
       "      <td>0.68%</td>\n",
       "      <td>25.18</td>\n",
       "      <td>SGD</td>\n",
       "      <td>25 Feb 2019</td>\n",
       "      <td>25.25</td>\n",
       "      <td>24.94</td>\n",
       "      <td>25.00</td>\n",
       "      <td>3,049,000</td>\n",
       "      <td>24.5570</td>\n",
       "      <td>24.1546</td>\n",
       "    </tr>\n",
       "    <tr>\n",
       "      <th>996</th>\n",
       "      <td>-0.010</td>\n",
       "      <td>-0.04%</td>\n",
       "      <td>25.17</td>\n",
       "      <td>SGD</td>\n",
       "      <td>26 Feb 2019</td>\n",
       "      <td>25.26</td>\n",
       "      <td>24.98</td>\n",
       "      <td>25.26</td>\n",
       "      <td>3,196,800</td>\n",
       "      <td>24.6045</td>\n",
       "      <td>24.1500</td>\n",
       "    </tr>\n",
       "    <tr>\n",
       "      <th>997</th>\n",
       "      <td>-0.020</td>\n",
       "      <td>-0.08%</td>\n",
       "      <td>25.15</td>\n",
       "      <td>SGD</td>\n",
       "      <td>27 Feb 2019</td>\n",
       "      <td>25.40</td>\n",
       "      <td>25.02</td>\n",
       "      <td>25.05</td>\n",
       "      <td>3,894,500</td>\n",
       "      <td>24.6510</td>\n",
       "      <td>24.1420</td>\n",
       "    </tr>\n",
       "    <tr>\n",
       "      <th>998</th>\n",
       "      <td>-0.310</td>\n",
       "      <td>-1.23%</td>\n",
       "      <td>24.84</td>\n",
       "      <td>SGD</td>\n",
       "      <td>28 Feb 2019</td>\n",
       "      <td>25.25</td>\n",
       "      <td>24.84</td>\n",
       "      <td>25.25</td>\n",
       "      <td>5,343,600</td>\n",
       "      <td>24.6820</td>\n",
       "      <td>24.1328</td>\n",
       "    </tr>\n",
       "    <tr>\n",
       "      <th>999</th>\n",
       "      <td>0.240</td>\n",
       "      <td>0.97%</td>\n",
       "      <td>25.08</td>\n",
       "      <td>SGD</td>\n",
       "      <td>1 Mar 2019</td>\n",
       "      <td>25.22</td>\n",
       "      <td>24.93</td>\n",
       "      <td>24.97</td>\n",
       "      <td>2,153,700</td>\n",
       "      <td>24.7390</td>\n",
       "      <td>24.1259</td>\n",
       "    </tr>\n",
       "  </tbody>\n",
       "</table>\n",
       "</div>"
      ],
      "text/plain": [
       "     change change_percent  close currency         date   high    low   open  \\\n",
       "995   0.170          0.68%  25.18      SGD  25 Feb 2019  25.25  24.94  25.00   \n",
       "996  -0.010         -0.04%  25.17      SGD  26 Feb 2019  25.26  24.98  25.26   \n",
       "997  -0.020         -0.08%  25.15      SGD  27 Feb 2019  25.40  25.02  25.05   \n",
       "998  -0.310         -1.23%  24.84      SGD  28 Feb 2019  25.25  24.84  25.25   \n",
       "999   0.240          0.97%  25.08      SGD   1 Mar 2019  25.22  24.93  24.97   \n",
       "\n",
       "        volume    sma20   sma100  \n",
       "995  3,049,000  24.5570  24.1546  \n",
       "996  3,196,800  24.6045  24.1500  \n",
       "997  3,894,500  24.6510  24.1420  \n",
       "998  5,343,600  24.6820  24.1328  \n",
       "999  2,153,700  24.7390  24.1259  "
      ]
     },
     "execution_count": 4,
     "metadata": {},
     "output_type": "execute_result"
    }
   ],
   "source": [
    "df = MA.compute(df, shortMADays) # Compute and add to Data Frame\n",
    "df = MA.compute(df, longMADays) # Compute and add to Data Frame\n",
    "df.tail() # Check data - Try 'df.head()'"
   ]
  },
  {
   "cell_type": "markdown",
   "metadata": {},
   "source": [
    "### Plot Graph"
   ]
  },
  {
   "cell_type": "code",
   "execution_count": 5,
   "metadata": {},
   "outputs": [
    {
     "data": {
      "text/plain": [
       "'file:///Users/ekoh/sgxcafe/Playground/output/SGX:D05.html'"
      ]
     },
     "execution_count": 5,
     "metadata": {},
     "output_type": "execute_result"
    }
   ],
   "source": [
    "# Good resource to learn about graph basics - https://www.kaggle.com/kanncaa1/plotly-tutorial-for-beginners\n",
    "\n",
    "traceClose = go.Scatter(\n",
    "                    x = df.date,\n",
    "                    y = df.close,\n",
    "                    mode = \"lines\",\n",
    "                    name = \"Close\",\n",
    "                    marker = dict(color = 'rgba(16, 112, 2, 0.8)'))\n",
    "\n",
    "traceShortMA = go.Scatter(\n",
    "                    x = df.date,\n",
    "                    y = df[f'sma{shortMADays}'],\n",
    "                    mode = \"lines\",\n",
    "                    name = f'SMA-{shortMADays}',\n",
    "                    marker = dict(size = 10, color = 'rgba(0, 0, 255, 0.3)'))\n",
    "\n",
    "traceLongMA = go.Scatter(\n",
    "                    x = df.date,\n",
    "                    y = df[f'sma{longMADays}'],\n",
    "                    mode = \"lines\",\n",
    "                    name = f'SMA-{longMADays}',\n",
    "                    marker = dict(color = 'rgba(255, 0, 0, 0.3)'))\n",
    "\n",
    "data = [traceClose, traceShortMA, traceLongMA]\n",
    "\n",
    "layout = dict(title = f'{name} Moving Average',\n",
    "              xaxis = dict(title = '', ticklen = 0, zeroline = False, \n",
    "                           showticklabels = True, range = [-10, len(df.index) + 10], dtick = 100, tickwidth = 1),\n",
    "              autosize = True, showlegend = True\n",
    "             )\n",
    "\n",
    "fig = dict(data = data, layout = layout)\n",
    "\n",
    "plot(fig, filename = f'output/{exchange}:{symbol}.html')"
   ]
  },
  {
   "cell_type": "code",
   "execution_count": null,
   "metadata": {},
   "outputs": [],
   "source": []
  }
 ],
 "metadata": {
  "kernelspec": {
   "display_name": "Python 3",
   "language": "python",
   "name": "python3"
  },
  "language_info": {
   "codemirror_mode": {
    "name": "ipython",
    "version": 3
   },
   "file_extension": ".py",
   "mimetype": "text/x-python",
   "name": "python",
   "nbconvert_exporter": "python",
   "pygments_lexer": "ipython3",
   "version": "3.7.1"
  }
 },
 "nbformat": 4,
 "nbformat_minor": 2
}

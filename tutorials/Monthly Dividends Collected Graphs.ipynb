{
 "cells": [
  {
   "cell_type": "markdown",
   "metadata": {},
   "source": [
    "### Author(s): evankoh\n",
    "\n",
    "\n",
    "### Description\n",
    "This notebook demonstrates:\n",
    "1. How to retrieve portfolio collected dividends\n",
    "2. Sum monthly dividends\n",
    "3. Plot a simple bar chart"
   ]
  },
  {
   "cell_type": "markdown",
   "metadata": {},
   "source": [
    "### Imports"
   ]
  },
  {
   "cell_type": "code",
   "execution_count": 1,
   "metadata": {},
   "outputs": [],
   "source": [
    "import os\n",
    "os.chdir('../')\n",
    "from stockscafe.StocksCafeApi import StocksCafeApi\n",
    "from stockscafe.utils import Conversion\n",
    "import plotly.graph_objs as go\n",
    "from plotly import __version__\n",
    "from plotly.offline import download_plotlyjs, init_notebook_mode, plot, iplot"
   ]
  },
  {
   "cell_type": "markdown",
   "metadata": {},
   "source": [
    "### Parameters (If unfamiliar with python, then only change the values in this cell)"
   ]
  },
  {
   "cell_type": "code",
   "execution_count": 2,
   "metadata": {},
   "outputs": [],
   "source": [
    "startDate = '2018-01-01' # Format: YYYY-MM-DD\n",
    "endDate = '2018-12-31'"
   ]
  },
  {
   "cell_type": "markdown",
   "metadata": {},
   "source": [
    "### Declarations, get and convert data"
   ]
  },
  {
   "cell_type": "code",
   "execution_count": 3,
   "metadata": {},
   "outputs": [
    {
     "data": {
      "text/html": [
       "<script type=\"text/javascript\">window.PlotlyConfig = {MathJaxConfig: 'local'};</script><script type=\"text/javascript\">if (window.MathJax) {MathJax.Hub.Config({SVG: {font: \"STIX-Web\"}});}</script><script>requirejs.config({paths: { 'plotly': ['https://cdn.plot.ly/plotly-latest.min']},});if(!window._Plotly) {require(['plotly'],function(plotly) {window._Plotly=plotly;});}</script>"
      ],
      "text/vnd.plotly.v1+html": [
       "<script type=\"text/javascript\">window.PlotlyConfig = {MathJaxConfig: 'local'};</script><script type=\"text/javascript\">if (window.MathJax) {MathJax.Hub.Config({SVG: {font: \"STIX-Web\"}});}</script><script>requirejs.config({paths: { 'plotly': ['https://cdn.plot.ly/plotly-latest.min']},});if(!window._Plotly) {require(['plotly'],function(plotly) {window._Plotly=plotly;});}</script>"
      ]
     },
     "metadata": {},
     "output_type": "display_data"
    }
   ],
   "source": [
    "init_notebook_mode(connected=True)\n",
    "sc = StocksCafeApi()\n",
    "df = sc.getCollectedDividends(startDate, endDate)"
   ]
  },
  {
   "cell_type": "code",
   "execution_count": 4,
   "metadata": {},
   "outputs": [],
   "source": [
    "monthlyMap = {}\n",
    "baseCurrency = df.iloc[0]['base_curr']\n",
    "for index, row in df.iterrows():\n",
    "    exDate = Conversion.string2DateTime(row['ex_date'])\n",
    "    month = exDate.month\n",
    "    year = exDate.year\n",
    "    totalAmount = row['base_curr_div_amt'] * row['shares']\n",
    "    if month not in monthlyMap:\n",
    "        monthlyMap[month] = 0\n",
    "    monthlyMap[month] += totalAmount\n",
    "monthlyList = []\n",
    "monthlyValue = []\n",
    "for x in range(1, 13):\n",
    "    monthlyList.append(Conversion.monthValue2ShortMonthString(x))\n",
    "    if x in monthlyMap:\n",
    "        monthlyValue.append(monthlyMap[x])\n",
    "    else:\n",
    "        monthlyValue.append(0)"
   ]
  },
  {
   "cell_type": "markdown",
   "metadata": {},
   "source": [
    "### Plot Graph"
   ]
  },
  {
   "cell_type": "code",
   "execution_count": 5,
   "metadata": {},
   "outputs": [
    {
     "data": {
      "application/vnd.plotly.v1+json": {
       "config": {
        "linkText": "Export to plot.ly",
        "plotlyServerURL": "https://plot.ly",
        "showLink": false
       },
       "data": [
        {
         "type": "bar",
         "uid": "2d71c98c-f25b-490c-91ef-0c39f4667037",
         "x": [
          "Jan",
          "Feb",
          "Mar",
          "Apr",
          "May",
          "Jun",
          "Jul",
          "Aug",
          "Sep",
          "Oct",
          "Nov",
          "Dec"
         ],
         "y": [
          66.5,
          53.50732000000001,
          95.80357799999999,
          147.175964,
          383.2057199999999,
          268.8036678,
          123.6304608,
          338.5071197,
          161.7597814,
          158.99685588000003,
          159.497593,
          100.29669494000001
         ]
        }
       ],
       "layout": {
        "barmode": "relative",
        "title": {
         "text": "Monthly Collected Dividends (SGD)"
        },
        "xaxis": {
         "title": {
          "text": "Months"
         }
        }
       }
      },
      "text/html": [
       "<div id=\"1a48fb35-f16d-4734-9780-e5a71b1c5c36\" style=\"height: 525px; width: 100%;\" class=\"plotly-graph-div\"></div><script type=\"text/javascript\">require([\"plotly\"], function(Plotly) { window.PLOTLYENV=window.PLOTLYENV || {};window.PLOTLYENV.BASE_URL=\"https://plot.ly\";Plotly.newPlot(\"1a48fb35-f16d-4734-9780-e5a71b1c5c36\", [{\"x\": [\"Jan\", \"Feb\", \"Mar\", \"Apr\", \"May\", \"Jun\", \"Jul\", \"Aug\", \"Sep\", \"Oct\", \"Nov\", \"Dec\"], \"y\": [66.5, 53.50732000000001, 95.80357799999999, 147.175964, 383.2057199999999, 268.8036678, 123.6304608, 338.5071197, 161.7597814, 158.99685588000003, 159.497593, 100.29669494000001], \"type\": \"bar\", \"uid\": \"2d71c98c-f25b-490c-91ef-0c39f4667037\"}], {\"barmode\": \"relative\", \"title\": {\"text\": \"Monthly Collected Dividends (SGD)\"}, \"xaxis\": {\"title\": {\"text\": \"Months\"}}}, {\"showLink\": false, \"linkText\": \"Export to plot.ly\", \"plotlyServerURL\": \"https://plot.ly\"})});</script><script type=\"text/javascript\">window.addEventListener(\"resize\", function(){window._Plotly.Plots.resize(document.getElementById(\"1a48fb35-f16d-4734-9780-e5a71b1c5c36\"));});</script>"
      ],
      "text/vnd.plotly.v1+html": [
       "<div id=\"1a48fb35-f16d-4734-9780-e5a71b1c5c36\" style=\"height: 525px; width: 100%;\" class=\"plotly-graph-div\"></div><script type=\"text/javascript\">require([\"plotly\"], function(Plotly) { window.PLOTLYENV=window.PLOTLYENV || {};window.PLOTLYENV.BASE_URL=\"https://plot.ly\";Plotly.newPlot(\"1a48fb35-f16d-4734-9780-e5a71b1c5c36\", [{\"x\": [\"Jan\", \"Feb\", \"Mar\", \"Apr\", \"May\", \"Jun\", \"Jul\", \"Aug\", \"Sep\", \"Oct\", \"Nov\", \"Dec\"], \"y\": [66.5, 53.50732000000001, 95.80357799999999, 147.175964, 383.2057199999999, 268.8036678, 123.6304608, 338.5071197, 161.7597814, 158.99685588000003, 159.497593, 100.29669494000001], \"type\": \"bar\", \"uid\": \"2d71c98c-f25b-490c-91ef-0c39f4667037\"}], {\"barmode\": \"relative\", \"title\": {\"text\": \"Monthly Collected Dividends (SGD)\"}, \"xaxis\": {\"title\": {\"text\": \"Months\"}}}, {\"showLink\": false, \"linkText\": \"Export to plot.ly\", \"plotlyServerURL\": \"https://plot.ly\"})});</script><script type=\"text/javascript\">window.addEventListener(\"resize\", function(){window._Plotly.Plots.resize(document.getElementById(\"1a48fb35-f16d-4734-9780-e5a71b1c5c36\"));});</script>"
      ]
     },
     "metadata": {},
     "output_type": "display_data"
    }
   ],
   "source": [
    "x = monthlyList\n",
    "\n",
    "trace1 = {\n",
    "  'x': x,\n",
    "  'y': monthlyValue,\n",
    "  'type': 'bar'\n",
    "};\n",
    "data = [trace1];\n",
    "layout = {\n",
    "  'xaxis': {'title': 'Months'},\n",
    "  'barmode': 'relative',\n",
    "  'title': f'Monthly Collected Dividends ({baseCurrency})'\n",
    "};\n",
    "fig = go.Figure(data = data, layout = layout)\n",
    "iplot(fig)"
   ]
  },
  {
   "cell_type": "markdown",
   "metadata": {},
   "source": [
    "### Generate and store graph in html"
   ]
  },
  {
   "cell_type": "code",
   "execution_count": null,
   "metadata": {},
   "outputs": [],
   "source": [
    "plot(fig, filename = f'output/monthly_collected_dividends.html')"
   ]
  }
 ],
 "metadata": {
  "kernelspec": {
   "display_name": "Python 3",
   "language": "python",
   "name": "python3"
  },
  "language_info": {
   "codemirror_mode": {
    "name": "ipython",
    "version": 3
   },
   "file_extension": ".py",
   "mimetype": "text/x-python",
   "name": "python",
   "nbconvert_exporter": "python",
   "pygments_lexer": "ipython3",
   "version": "3.7.1"
  }
 },
 "nbformat": 4,
 "nbformat_minor": 2
}

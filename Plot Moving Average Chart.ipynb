{
 "cells": [
  {
   "cell_type": "markdown",
   "metadata": {},
   "source": [
    "### Author(s): evankoh\n",
    "\n",
    "\n",
    "### Description\n",
    "This notebook demonstrates:\n",
    "1. How to retrieve historical prices for a stock\n",
    "2. Compute moving averages\n",
    "3. Plot results with line charts"
   ]
  },
  {
   "cell_type": "markdown",
   "metadata": {},
   "source": [
    "### Import all neccessary libraries/functions"
   ]
  },
  {
   "cell_type": "code",
   "execution_count": 1,
   "metadata": {},
   "outputs": [],
   "source": [
    "from stockscafe.StocksCafe import StocksCafe\n",
    "import stockscafe.indicators.momentum.MovingAverage as MA\n",
    "import pandas as pd\n",
    "import plotly.graph_objs as go\n",
    "from plotly import __version__\n",
    "from plotly.offline import plot"
   ]
  },
  {
   "cell_type": "markdown",
   "metadata": {},
   "source": [
    "### Parameters (If unfamiliar with python, then only change the values in this cell)"
   ]
  },
  {
   "cell_type": "code",
   "execution_count": 6,
   "metadata": {},
   "outputs": [],
   "source": [
    "exchange = 'SGX'\n",
    "symbol = 'D05'\n",
    "name = 'DBS Bank'\n",
    "shortMADays = 20\n",
    "longMADays = 100\n",
    "priceLookbackDays = 1000 # Max is 1000"
   ]
  },
  {
   "cell_type": "markdown",
   "metadata": {},
   "source": [
    "### Declaration & Get Recent Prices"
   ]
  },
  {
   "cell_type": "code",
   "execution_count": null,
   "metadata": {},
   "outputs": [],
   "source": [
    "sc = StocksCafe()\n",
    "df = sc.getPrices(exchange, symbol, priceLookbackDays)\n",
    "df.tail()"
   ]
  },
  {
   "cell_type": "markdown",
   "metadata": {},
   "source": [
    "### Compute Moving Averages"
   ]
  },
  {
   "cell_type": "code",
   "execution_count": 7,
   "metadata": {},
   "outputs": [
    {
     "data": {
      "text/html": [
       "<div>\n",
       "<style scoped>\n",
       "    .dataframe tbody tr th:only-of-type {\n",
       "        vertical-align: middle;\n",
       "    }\n",
       "\n",
       "    .dataframe tbody tr th {\n",
       "        vertical-align: top;\n",
       "    }\n",
       "\n",
       "    .dataframe thead th {\n",
       "        text-align: right;\n",
       "    }\n",
       "</style>\n",
       "<table border=\"1\" class=\"dataframe\">\n",
       "  <thead>\n",
       "    <tr style=\"text-align: right;\">\n",
       "      <th></th>\n",
       "      <th>change</th>\n",
       "      <th>change_percent</th>\n",
       "      <th>close</th>\n",
       "      <th>currency</th>\n",
       "      <th>date</th>\n",
       "      <th>high</th>\n",
       "      <th>low</th>\n",
       "      <th>open</th>\n",
       "      <th>volume</th>\n",
       "      <th>sma20</th>\n",
       "      <th>sma100</th>\n",
       "    </tr>\n",
       "  </thead>\n",
       "  <tbody>\n",
       "    <tr>\n",
       "      <th>995</th>\n",
       "      <td>0.410</td>\n",
       "      <td>1.65%</td>\n",
       "      <td>25.20</td>\n",
       "      <td>SGD</td>\n",
       "      <td>18 Feb 2019</td>\n",
       "      <td>25.29</td>\n",
       "      <td>24.89</td>\n",
       "      <td>25.00</td>\n",
       "      <td>5,147,100</td>\n",
       "      <td>24.4510</td>\n",
       "      <td>24.1995</td>\n",
       "    </tr>\n",
       "    <tr>\n",
       "      <th>996</th>\n",
       "      <td>-0.100</td>\n",
       "      <td>-0.40%</td>\n",
       "      <td>25.10</td>\n",
       "      <td>SGD</td>\n",
       "      <td>19 Feb 2019</td>\n",
       "      <td>25.33</td>\n",
       "      <td>25.10</td>\n",
       "      <td>25.22</td>\n",
       "      <td>3,293,078</td>\n",
       "      <td>24.4490</td>\n",
       "      <td>24.1921</td>\n",
       "    </tr>\n",
       "    <tr>\n",
       "      <th>997</th>\n",
       "      <td>-0.020</td>\n",
       "      <td>-0.08%</td>\n",
       "      <td>25.08</td>\n",
       "      <td>SGD</td>\n",
       "      <td>20 Feb 2019</td>\n",
       "      <td>25.30</td>\n",
       "      <td>25.05</td>\n",
       "      <td>25.23</td>\n",
       "      <td>3,509,000</td>\n",
       "      <td>24.4525</td>\n",
       "      <td>24.1846</td>\n",
       "    </tr>\n",
       "    <tr>\n",
       "      <th>998</th>\n",
       "      <td>-0.270</td>\n",
       "      <td>-1.08%</td>\n",
       "      <td>24.81</td>\n",
       "      <td>SGD</td>\n",
       "      <td>21 Feb 2019</td>\n",
       "      <td>25.00</td>\n",
       "      <td>24.70</td>\n",
       "      <td>24.81</td>\n",
       "      <td>5,993,300</td>\n",
       "      <td>24.4655</td>\n",
       "      <td>24.1733</td>\n",
       "    </tr>\n",
       "    <tr>\n",
       "      <th>999</th>\n",
       "      <td>0.200</td>\n",
       "      <td>0.81%</td>\n",
       "      <td>25.01</td>\n",
       "      <td>SGD</td>\n",
       "      <td>22 Feb 2019</td>\n",
       "      <td>25.07</td>\n",
       "      <td>24.70</td>\n",
       "      <td>24.70</td>\n",
       "      <td>4,219,570</td>\n",
       "      <td>24.5080</td>\n",
       "      <td>24.1625</td>\n",
       "    </tr>\n",
       "  </tbody>\n",
       "</table>\n",
       "</div>"
      ],
      "text/plain": [
       "     change change_percent  close currency         date   high    low   open  \\\n",
       "995   0.410          1.65%  25.20      SGD  18 Feb 2019  25.29  24.89  25.00   \n",
       "996  -0.100         -0.40%  25.10      SGD  19 Feb 2019  25.33  25.10  25.22   \n",
       "997  -0.020         -0.08%  25.08      SGD  20 Feb 2019  25.30  25.05  25.23   \n",
       "998  -0.270         -1.08%  24.81      SGD  21 Feb 2019  25.00  24.70  24.81   \n",
       "999   0.200          0.81%  25.01      SGD  22 Feb 2019  25.07  24.70  24.70   \n",
       "\n",
       "        volume    sma20   sma100  \n",
       "995  5,147,100  24.4510  24.1995  \n",
       "996  3,293,078  24.4490  24.1921  \n",
       "997  3,509,000  24.4525  24.1846  \n",
       "998  5,993,300  24.4655  24.1733  \n",
       "999  4,219,570  24.5080  24.1625  "
      ]
     },
     "execution_count": 7,
     "metadata": {},
     "output_type": "execute_result"
    }
   ],
   "source": [
    "df = MA.compute(df, shortMADays) # Compute and add to Data Frame\n",
    "df = MA.compute(df, longMADays) # Compute and add to Data Frame\n",
    "df.tail() # Check data - Try 'df.head()'"
   ]
  },
  {
   "cell_type": "markdown",
   "metadata": {},
   "source": [
    "### Plot Graph"
   ]
  },
  {
   "cell_type": "code",
   "execution_count": null,
   "metadata": {},
   "outputs": [],
   "source": [
    "# Good resource to learn about graph basics - https://www.kaggle.com/kanncaa1/plotly-tutorial-for-beginners\n",
    "\n",
    "traceClose = go.Scatter(\n",
    "                    x = df.date,\n",
    "                    y = df.close,\n",
    "                    mode = \"lines\",\n",
    "                    name = \"Close\",\n",
    "                    marker = dict(color = 'rgba(16, 112, 2, 0.8)'))\n",
    "\n",
    "traceShortMA = go.Scatter(\n",
    "                    x = df.date,\n",
    "                    y = df[f'sma{shortMADays}'],\n",
    "                    mode = \"lines\",\n",
    "                    name = f'SMA-{shortMADays}',\n",
    "                    marker = dict(size = 10, color = 'rgba(0, 0, 255, 0.3)'))\n",
    "\n",
    "traceLongMA = go.Scatter(\n",
    "                    x = df.date,\n",
    "                    y = df[f'sma{longMADays}'],\n",
    "                    mode = \"lines\",\n",
    "                    name = f'SMA-{longMADays}',\n",
    "                    marker = dict(color = 'rgba(255, 0, 0, 0.3)'))\n",
    "\n",
    "data = [traceClose, traceShortMA, traceLongMA]\n",
    "\n",
    "layout = dict(title = f'{name} Moving Average',\n",
    "              xaxis = dict(title = '', ticklen = 0, zeroline = False, \n",
    "                           showticklabels = True, range = [-10, len(df.index) + 10], dtick = 100, tickwidth = 1),\n",
    "              autosize = True, showlegend = True\n",
    "             )\n",
    "\n",
    "fig = dict(data = data, layout = layout)\n",
    "\n",
    "plot(fig, filename = f'output/{exchange}:{symbol}.html')"
   ]
  },
  {
   "cell_type": "code",
   "execution_count": null,
   "metadata": {},
   "outputs": [],
   "source": []
  }
 ],
 "metadata": {
  "kernelspec": {
   "display_name": "Python 3",
   "language": "python",
   "name": "python3"
  },
  "language_info": {
   "codemirror_mode": {
    "name": "ipython",
    "version": 3
   },
   "file_extension": ".py",
   "mimetype": "text/x-python",
   "name": "python",
   "nbconvert_exporter": "python",
   "pygments_lexer": "ipython3",
   "version": "3.7.1"
  }
 },
 "nbformat": 4,
 "nbformat_minor": 2
}

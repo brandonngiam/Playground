{
 "cells": [
  {
   "cell_type": "markdown",
   "metadata": {},
   "source": [
    "### Author(s): evankoh\n",
    "\n",
    "\n",
    "### Description\n",
    "This notebook demonstrates:\n",
    "1. How to retrieve portfolio collected dividends\n",
    "2. Sum monthly dividends\n",
    "3. Plot a simple bar chart"
   ]
  },
  {
   "cell_type": "markdown",
   "metadata": {},
   "source": [
    "### Imports"
   ]
  },
  {
   "cell_type": "code",
   "execution_count": 30,
   "metadata": {},
   "outputs": [],
   "source": [
    "from stockscafe.StocksCafe import StocksCafe\n",
    "from stockscafe.utils import Conversion\n",
    "import plotly.graph_objs as go\n",
    "from plotly import __version__\n",
    "from plotly.offline import plot"
   ]
  },
  {
   "cell_type": "markdown",
   "metadata": {},
   "source": [
    "### Parameters (If unfamiliar with python, then only change the values in this cell)"
   ]
  },
  {
   "cell_type": "code",
   "execution_count": 31,
   "metadata": {},
   "outputs": [],
   "source": [
    "startDate = '2018-01-01' # Format: YYYY-MM-DD\n",
    "endDate = '2018-12-31'"
   ]
  },
  {
   "cell_type": "markdown",
   "metadata": {},
   "source": [
    "### Declarations, get and convert data"
   ]
  },
  {
   "cell_type": "code",
   "execution_count": 32,
   "metadata": {},
   "outputs": [],
   "source": [
    "sc = StocksCafe()\n",
    "df = sc.getCollectedDividends(startDate, endDate)"
   ]
  },
  {
   "cell_type": "code",
   "execution_count": 33,
   "metadata": {},
   "outputs": [],
   "source": [
    "monthlyMap = {}\n",
    "baseCurrency = df.iloc[0]['base_curr']\n",
    "for index, row in df.iterrows():\n",
    "    exDate = Conversion.string2DateTime(row['ex_date'])\n",
    "    month = exDate.month\n",
    "    year = exDate.year\n",
    "    totalAmount = row['base_curr_div_amt'] * row['shares']\n",
    "    if month not in monthlyMap:\n",
    "        monthlyMap[month] = 0\n",
    "    monthlyMap[month] += totalAmount\n",
    "monthlyList = []\n",
    "monthlyValue = []\n",
    "for x in range(1, 13):\n",
    "    monthlyList.append(Conversion.monthValue2ShortMonthString(x))\n",
    "    if x in monthlyMap:\n",
    "        monthlyValue.append(monthlyMap[x])\n",
    "    else:\n",
    "        monthlyValue.append(0)"
   ]
  },
  {
   "cell_type": "markdown",
   "metadata": {},
   "source": [
    "### Plot Graph"
   ]
  },
  {
   "cell_type": "code",
   "execution_count": 34,
   "metadata": {},
   "outputs": [
    {
     "data": {
      "text/plain": [
       "'file:///Users/ekoh/sgxcafe/Playground/output/monthly_collected_dividends.html'"
      ]
     },
     "execution_count": 34,
     "metadata": {},
     "output_type": "execute_result"
    }
   ],
   "source": [
    "x = monthlyList\n",
    "\n",
    "trace1 = {\n",
    "  'x': x,\n",
    "  'y': monthlyValue,\n",
    "  'type': 'bar'\n",
    "};\n",
    "data = [trace1];\n",
    "layout = {\n",
    "  'xaxis': {'title': 'Months'},\n",
    "  'barmode': 'relative',\n",
    "  'title': f'Monthly Collected Dividends ({baseCurrency})'\n",
    "};\n",
    "fig = go.Figure(data = data, layout = layout)\n",
    "plot(fig, filename = f'output/monthly_collected_dividends.html')"
   ]
  },
  {
   "cell_type": "code",
   "execution_count": null,
   "metadata": {},
   "outputs": [],
   "source": []
  }
 ],
 "metadata": {
  "kernelspec": {
   "display_name": "Python 3",
   "language": "python",
   "name": "python3"
  },
  "language_info": {
   "codemirror_mode": {
    "name": "ipython",
    "version": 3
   },
   "file_extension": ".py",
   "mimetype": "text/x-python",
   "name": "python",
   "nbconvert_exporter": "python",
   "pygments_lexer": "ipython3",
   "version": "3.7.1"
  }
 },
 "nbformat": 4,
 "nbformat_minor": 2
}

{
 "cells": [
  {
   "cell_type": "markdown",
   "metadata": {},
   "source": [
    "## Imports"
   ]
  },
  {
   "cell_type": "code",
   "execution_count": 9,
   "metadata": {},
   "outputs": [],
   "source": [
    "from stockscafe.StocksCafe import StocksCafe"
   ]
  },
  {
   "cell_type": "markdown",
   "metadata": {},
   "source": [
    "## Parameters"
   ]
  },
  {
   "cell_type": "code",
   "execution_count": 10,
   "metadata": {},
   "outputs": [],
   "source": [
    "exchange = 'SGX'\n",
    "symbol = 'D05'"
   ]
  },
  {
   "cell_type": "markdown",
   "metadata": {},
   "source": [
    "## Create StocksCafe object"
   ]
  },
  {
   "cell_type": "code",
   "execution_count": 11,
   "metadata": {},
   "outputs": [],
   "source": [
    "sc = StocksCafe()"
   ]
  },
  {
   "cell_type": "markdown",
   "metadata": {},
   "source": [
    "## Get Recent Prices (Includes high, low, open, close etc)"
   ]
  },
  {
   "cell_type": "code",
   "execution_count": 12,
   "metadata": {},
   "outputs": [
    {
     "data": {
      "text/html": [
       "<div>\n",
       "<style scoped>\n",
       "    .dataframe tbody tr th:only-of-type {\n",
       "        vertical-align: middle;\n",
       "    }\n",
       "\n",
       "    .dataframe tbody tr th {\n",
       "        vertical-align: top;\n",
       "    }\n",
       "\n",
       "    .dataframe thead th {\n",
       "        text-align: right;\n",
       "    }\n",
       "</style>\n",
       "<table border=\"1\" class=\"dataframe\">\n",
       "  <thead>\n",
       "    <tr style=\"text-align: right;\">\n",
       "      <th></th>\n",
       "      <th>change</th>\n",
       "      <th>change_percent</th>\n",
       "      <th>close</th>\n",
       "      <th>currency</th>\n",
       "      <th>date</th>\n",
       "      <th>high</th>\n",
       "      <th>low</th>\n",
       "      <th>open</th>\n",
       "      <th>volume</th>\n",
       "    </tr>\n",
       "  </thead>\n",
       "  <tbody>\n",
       "    <tr>\n",
       "      <th>0</th>\n",
       "      <td>0.200</td>\n",
       "      <td>0.81%</td>\n",
       "      <td>25.01</td>\n",
       "      <td>SGD</td>\n",
       "      <td>22 Feb 2019</td>\n",
       "      <td>25.07</td>\n",
       "      <td>24.70</td>\n",
       "      <td>24.70</td>\n",
       "      <td>4,219,570</td>\n",
       "    </tr>\n",
       "    <tr>\n",
       "      <th>1</th>\n",
       "      <td>-0.270</td>\n",
       "      <td>-1.08%</td>\n",
       "      <td>24.81</td>\n",
       "      <td>SGD</td>\n",
       "      <td>21 Feb 2019</td>\n",
       "      <td>25.00</td>\n",
       "      <td>24.70</td>\n",
       "      <td>24.81</td>\n",
       "      <td>5,993,300</td>\n",
       "    </tr>\n",
       "    <tr>\n",
       "      <th>2</th>\n",
       "      <td>-0.020</td>\n",
       "      <td>-0.08%</td>\n",
       "      <td>25.08</td>\n",
       "      <td>SGD</td>\n",
       "      <td>20 Feb 2019</td>\n",
       "      <td>25.30</td>\n",
       "      <td>25.05</td>\n",
       "      <td>25.23</td>\n",
       "      <td>3,509,000</td>\n",
       "    </tr>\n",
       "    <tr>\n",
       "      <th>3</th>\n",
       "      <td>-0.100</td>\n",
       "      <td>-0.40%</td>\n",
       "      <td>25.10</td>\n",
       "      <td>SGD</td>\n",
       "      <td>19 Feb 2019</td>\n",
       "      <td>25.33</td>\n",
       "      <td>25.10</td>\n",
       "      <td>25.22</td>\n",
       "      <td>3,293,078</td>\n",
       "    </tr>\n",
       "    <tr>\n",
       "      <th>4</th>\n",
       "      <td>0.410</td>\n",
       "      <td>1.65%</td>\n",
       "      <td>25.20</td>\n",
       "      <td>SGD</td>\n",
       "      <td>18 Feb 2019</td>\n",
       "      <td>25.29</td>\n",
       "      <td>24.89</td>\n",
       "      <td>25.00</td>\n",
       "      <td>5,147,100</td>\n",
       "    </tr>\n",
       "    <tr>\n",
       "      <th>5</th>\n",
       "      <td>-0.180</td>\n",
       "      <td>-0.72%</td>\n",
       "      <td>24.79</td>\n",
       "      <td>SGD</td>\n",
       "      <td>15 Feb 2019</td>\n",
       "      <td>24.99</td>\n",
       "      <td>24.63</td>\n",
       "      <td>24.88</td>\n",
       "      <td>4,885,800</td>\n",
       "    </tr>\n",
       "    <tr>\n",
       "      <th>6</th>\n",
       "      <td>0.070</td>\n",
       "      <td>0.28%</td>\n",
       "      <td>24.97</td>\n",
       "      <td>SGD</td>\n",
       "      <td>14 Feb 2019</td>\n",
       "      <td>24.97</td>\n",
       "      <td>24.78</td>\n",
       "      <td>24.78</td>\n",
       "      <td>4,105,200</td>\n",
       "    </tr>\n",
       "    <tr>\n",
       "      <th>7</th>\n",
       "      <td>0.560</td>\n",
       "      <td>2.30%</td>\n",
       "      <td>24.90</td>\n",
       "      <td>SGD</td>\n",
       "      <td>13 Feb 2019</td>\n",
       "      <td>24.90</td>\n",
       "      <td>24.53</td>\n",
       "      <td>24.58</td>\n",
       "      <td>5,086,200</td>\n",
       "    </tr>\n",
       "    <tr>\n",
       "      <th>8</th>\n",
       "      <td>-0.020</td>\n",
       "      <td>-0.08%</td>\n",
       "      <td>24.34</td>\n",
       "      <td>SGD</td>\n",
       "      <td>12 Feb 2019</td>\n",
       "      <td>24.41</td>\n",
       "      <td>24.28</td>\n",
       "      <td>24.39</td>\n",
       "      <td>2,678,500</td>\n",
       "    </tr>\n",
       "    <tr>\n",
       "      <th>9</th>\n",
       "      <td>0.060</td>\n",
       "      <td>0.25%</td>\n",
       "      <td>24.36</td>\n",
       "      <td>SGD</td>\n",
       "      <td>11 Feb 2019</td>\n",
       "      <td>24.44</td>\n",
       "      <td>24.01</td>\n",
       "      <td>24.01</td>\n",
       "      <td>3,230,000</td>\n",
       "    </tr>\n",
       "  </tbody>\n",
       "</table>\n",
       "</div>"
      ],
      "text/plain": [
       "   change change_percent  close currency         date   high    low   open  \\\n",
       "0   0.200          0.81%  25.01      SGD  22 Feb 2019  25.07  24.70  24.70   \n",
       "1  -0.270         -1.08%  24.81      SGD  21 Feb 2019  25.00  24.70  24.81   \n",
       "2  -0.020         -0.08%  25.08      SGD  20 Feb 2019  25.30  25.05  25.23   \n",
       "3  -0.100         -0.40%  25.10      SGD  19 Feb 2019  25.33  25.10  25.22   \n",
       "4   0.410          1.65%  25.20      SGD  18 Feb 2019  25.29  24.89  25.00   \n",
       "5  -0.180         -0.72%  24.79      SGD  15 Feb 2019  24.99  24.63  24.88   \n",
       "6   0.070          0.28%  24.97      SGD  14 Feb 2019  24.97  24.78  24.78   \n",
       "7   0.560          2.30%  24.90      SGD  13 Feb 2019  24.90  24.53  24.58   \n",
       "8  -0.020         -0.08%  24.34      SGD  12 Feb 2019  24.41  24.28  24.39   \n",
       "9   0.060          0.25%  24.36      SGD  11 Feb 2019  24.44  24.01  24.01   \n",
       "\n",
       "      volume  \n",
       "0  4,219,570  \n",
       "1  5,993,300  \n",
       "2  3,509,000  \n",
       "3  3,293,078  \n",
       "4  5,147,100  \n",
       "5  4,885,800  \n",
       "6  4,105,200  \n",
       "7  5,086,200  \n",
       "8  2,678,500  \n",
       "9  3,230,000  "
      ]
     },
     "execution_count": 12,
     "metadata": {},
     "output_type": "execute_result"
    }
   ],
   "source": [
    "sc.getPrices(exchange, symbol, 10)"
   ]
  },
  {
   "cell_type": "markdown",
   "metadata": {},
   "source": [
    "## How many API calls you have made today (Daily Limit = 100, Reset at 12am SGT)"
   ]
  },
  {
   "cell_type": "code",
   "execution_count": 14,
   "metadata": {},
   "outputs": [
    {
     "data": {
      "text/html": [
       "<div>\n",
       "<style scoped>\n",
       "    .dataframe tbody tr th:only-of-type {\n",
       "        vertical-align: middle;\n",
       "    }\n",
       "\n",
       "    .dataframe tbody tr th {\n",
       "        vertical-align: top;\n",
       "    }\n",
       "\n",
       "    .dataframe thead th {\n",
       "        text-align: right;\n",
       "    }\n",
       "</style>\n",
       "<table border=\"1\" class=\"dataframe\">\n",
       "  <thead>\n",
       "    <tr style=\"text-align: right;\">\n",
       "      <th></th>\n",
       "      <th>count</th>\n",
       "      <th>latency_ms</th>\n",
       "      <th>result</th>\n",
       "      <th>result_boolean</th>\n",
       "      <th>timestamp</th>\n",
       "    </tr>\n",
       "  </thead>\n",
       "  <tbody>\n",
       "    <tr>\n",
       "      <th>0</th>\n",
       "      <td>4</td>\n",
       "      <td>2</td>\n",
       "      <td>Successful</td>\n",
       "      <td>True</td>\n",
       "      <td>1550998369</td>\n",
       "    </tr>\n",
       "  </tbody>\n",
       "</table>\n",
       "</div>"
      ],
      "text/plain": [
       "   count  latency_ms      result  result_boolean   timestamp\n",
       "0      4           2  Successful            True  1550998369"
      ]
     },
     "execution_count": 14,
     "metadata": {},
     "output_type": "execute_result"
    }
   ],
   "source": [
    "sc.getApiCount()"
   ]
  }
 ],
 "metadata": {
  "kernelspec": {
   "display_name": "Python 3",
   "language": "python",
   "name": "python3"
  },
  "language_info": {
   "codemirror_mode": {
    "name": "ipython",
    "version": 3
   },
   "file_extension": ".py",
   "mimetype": "text/x-python",
   "name": "python",
   "nbconvert_exporter": "python",
   "pygments_lexer": "ipython3",
   "version": "3.7.2"
  }
 },
 "nbformat": 4,
 "nbformat_minor": 2
}
